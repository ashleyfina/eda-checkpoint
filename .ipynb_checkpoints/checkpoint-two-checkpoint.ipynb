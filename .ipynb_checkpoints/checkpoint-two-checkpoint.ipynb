{
 "cells": [
  {
   "cell_type": "markdown",
   "metadata": {
    "azdata_cell_guid": "151601c9-ca7a-412e-af80-c62a87e0837e"
   },
   "source": [
    "# Checkpoint Two: Exploratory Data Analysis\n",
    "\n",
    "Now that your chosen dataset is approved, it is time to start working on your analysis. Use this notebook to perform your EDA and make notes where directed to as you work.\n",
    "\n",
    "## Getting Started\n",
    "\n",
    "Since we have not provided your dataset for you, you will need to load the necessary files in this repository. Make sure to include a link back to the original dataset here as well.\n",
    "\n",
    "My dataset: https://www.kaggle.com/datasets/michaelbryantds/cpu-and-gpu-product-data\n",
    "\n",
    "Your first task in EDA is to import necessary libraries and create a dataframe(s). Make note in the form of code comments of what your thought process is as you work on this setup task."
   ]
  },
  {
   "cell_type": "code",
   "execution_count": 1,
   "metadata": {},
   "outputs": [],
   "source": [
    "import pandas as pd\n",
    "import matplotlib.pyplot as plt\n",
    "import seaborn as sns"
   ]
  },
  {
   "cell_type": "code",
   "execution_count": 2,
   "metadata": {
    "azdata_cell_guid": "7b503e37-6df5-4433-acfb-678b1346db14"
   },
   "outputs": [
    {
     "data": {
      "text/html": [
       "<div>\n",
       "<style scoped>\n",
       "    .dataframe tbody tr th:only-of-type {\n",
       "        vertical-align: middle;\n",
       "    }\n",
       "\n",
       "    .dataframe tbody tr th {\n",
       "        vertical-align: top;\n",
       "    }\n",
       "\n",
       "    .dataframe thead th {\n",
       "        text-align: right;\n",
       "    }\n",
       "</style>\n",
       "<table border=\"1\" class=\"dataframe\">\n",
       "  <thead>\n",
       "    <tr style=\"text-align: right;\">\n",
       "      <th></th>\n",
       "      <th>Unnamed: 0</th>\n",
       "      <th>Product</th>\n",
       "      <th>Type</th>\n",
       "      <th>Release Date</th>\n",
       "      <th>Process Size (nm)</th>\n",
       "      <th>TDP (W)</th>\n",
       "      <th>Die Size (mm^2)</th>\n",
       "      <th>Transistors (million)</th>\n",
       "      <th>Freq (MHz)</th>\n",
       "      <th>Foundry</th>\n",
       "      <th>Vendor</th>\n",
       "      <th>FP16 GFLOPS</th>\n",
       "      <th>FP32 GFLOPS</th>\n",
       "      <th>FP64 GFLOPS</th>\n",
       "    </tr>\n",
       "  </thead>\n",
       "  <tbody>\n",
       "    <tr>\n",
       "      <th>0</th>\n",
       "      <td>0</td>\n",
       "      <td>AMD Athlon 64 3500+</td>\n",
       "      <td>CPU</td>\n",
       "      <td>2007-02-20</td>\n",
       "      <td>65.0</td>\n",
       "      <td>45.0</td>\n",
       "      <td>77.0</td>\n",
       "      <td>122.0</td>\n",
       "      <td>2200.0</td>\n",
       "      <td>Unknown</td>\n",
       "      <td>AMD</td>\n",
       "      <td>NaN</td>\n",
       "      <td>NaN</td>\n",
       "      <td>NaN</td>\n",
       "    </tr>\n",
       "    <tr>\n",
       "      <th>1</th>\n",
       "      <td>1</td>\n",
       "      <td>AMD Athlon 200GE</td>\n",
       "      <td>CPU</td>\n",
       "      <td>2018-09-06</td>\n",
       "      <td>14.0</td>\n",
       "      <td>35.0</td>\n",
       "      <td>192.0</td>\n",
       "      <td>4800.0</td>\n",
       "      <td>3200.0</td>\n",
       "      <td>Unknown</td>\n",
       "      <td>AMD</td>\n",
       "      <td>NaN</td>\n",
       "      <td>NaN</td>\n",
       "      <td>NaN</td>\n",
       "    </tr>\n",
       "    <tr>\n",
       "      <th>2</th>\n",
       "      <td>2</td>\n",
       "      <td>Intel Core i5-1145G7</td>\n",
       "      <td>CPU</td>\n",
       "      <td>2020-09-02</td>\n",
       "      <td>10.0</td>\n",
       "      <td>28.0</td>\n",
       "      <td>NaN</td>\n",
       "      <td>NaN</td>\n",
       "      <td>2600.0</td>\n",
       "      <td>Intel</td>\n",
       "      <td>Intel</td>\n",
       "      <td>NaN</td>\n",
       "      <td>NaN</td>\n",
       "      <td>NaN</td>\n",
       "    </tr>\n",
       "    <tr>\n",
       "      <th>3</th>\n",
       "      <td>3</td>\n",
       "      <td>Intel Xeon E5-2603 v2</td>\n",
       "      <td>CPU</td>\n",
       "      <td>2013-09-01</td>\n",
       "      <td>22.0</td>\n",
       "      <td>80.0</td>\n",
       "      <td>160.0</td>\n",
       "      <td>1400.0</td>\n",
       "      <td>1800.0</td>\n",
       "      <td>Intel</td>\n",
       "      <td>Intel</td>\n",
       "      <td>NaN</td>\n",
       "      <td>NaN</td>\n",
       "      <td>NaN</td>\n",
       "    </tr>\n",
       "    <tr>\n",
       "      <th>4</th>\n",
       "      <td>4</td>\n",
       "      <td>AMD Phenom II X4 980 BE</td>\n",
       "      <td>CPU</td>\n",
       "      <td>2011-05-03</td>\n",
       "      <td>45.0</td>\n",
       "      <td>125.0</td>\n",
       "      <td>258.0</td>\n",
       "      <td>758.0</td>\n",
       "      <td>3700.0</td>\n",
       "      <td>Unknown</td>\n",
       "      <td>AMD</td>\n",
       "      <td>NaN</td>\n",
       "      <td>NaN</td>\n",
       "      <td>NaN</td>\n",
       "    </tr>\n",
       "  </tbody>\n",
       "</table>\n",
       "</div>"
      ],
      "text/plain": [
       "   Unnamed: 0                  Product Type Release Date  Process Size (nm)  \\\n",
       "0           0      AMD Athlon 64 3500+  CPU   2007-02-20               65.0   \n",
       "1           1         AMD Athlon 200GE  CPU   2018-09-06               14.0   \n",
       "2           2     Intel Core i5-1145G7  CPU   2020-09-02               10.0   \n",
       "3           3    Intel Xeon E5-2603 v2  CPU   2013-09-01               22.0   \n",
       "4           4  AMD Phenom II X4 980 BE  CPU   2011-05-03               45.0   \n",
       "\n",
       "   TDP (W)  Die Size (mm^2)  Transistors (million)  Freq (MHz)  Foundry  \\\n",
       "0     45.0             77.0                  122.0      2200.0  Unknown   \n",
       "1     35.0            192.0                 4800.0      3200.0  Unknown   \n",
       "2     28.0              NaN                    NaN      2600.0    Intel   \n",
       "3     80.0            160.0                 1400.0      1800.0    Intel   \n",
       "4    125.0            258.0                  758.0      3700.0  Unknown   \n",
       "\n",
       "  Vendor  FP16 GFLOPS  FP32 GFLOPS  FP64 GFLOPS  \n",
       "0    AMD          NaN          NaN          NaN  \n",
       "1    AMD          NaN          NaN          NaN  \n",
       "2  Intel          NaN          NaN          NaN  \n",
       "3  Intel          NaN          NaN          NaN  \n",
       "4    AMD          NaN          NaN          NaN  "
      ]
     },
     "execution_count": 2,
     "metadata": {},
     "output_type": "execute_result"
    }
   ],
   "source": [
    "chip = pd.read_csv(\"chip_dataset.csv\")\n",
    "\n",
    "chip.head()"
   ]
  },
  {
   "cell_type": "code",
   "execution_count": 3,
   "metadata": {},
   "outputs": [
    {
     "name": "stdout",
     "output_type": "stream",
     "text": [
      "<class 'pandas.core.frame.DataFrame'>\n",
      "RangeIndex: 4854 entries, 0 to 4853\n",
      "Data columns (total 14 columns):\n",
      " #   Column                 Non-Null Count  Dtype  \n",
      "---  ------                 --------------  -----  \n",
      " 0   Unnamed: 0             4854 non-null   int64  \n",
      " 1   Product                4854 non-null   object \n",
      " 2   Type                   4854 non-null   object \n",
      " 3   Release Date           4854 non-null   object \n",
      " 4   Process Size (nm)      4845 non-null   float64\n",
      " 5   TDP (W)                4228 non-null   float64\n",
      " 6   Die Size (mm^2)        4139 non-null   float64\n",
      " 7   Transistors (million)  4143 non-null   float64\n",
      " 8   Freq (MHz)             4854 non-null   float64\n",
      " 9   Foundry                4854 non-null   object \n",
      " 10  Vendor                 4854 non-null   object \n",
      " 11  FP16 GFLOPS            536 non-null    float64\n",
      " 12  FP32 GFLOPS            1948 non-null   float64\n",
      " 13  FP64 GFLOPS            1306 non-null   float64\n",
      "dtypes: float64(8), int64(1), object(5)\n",
      "memory usage: 531.0+ KB\n"
     ]
    }
   ],
   "source": [
    "chip.info()"
   ]
  },
  {
   "cell_type": "markdown",
   "metadata": {
    "azdata_cell_guid": "129ce836-524b-4ea8-b394-a959f9308d6a",
    "tags": []
   },
   "source": [
    "## Get to Know the Numbers\n",
    "\n",
    "Now that you have everything setup, put any code that you use to get to know the dataframe and its rows and columns better in the cell below. You can use whatever techniques you like, except for visualizations. You will put those in a separate section.\n",
    "\n",
    "When working on your code, make sure to leave comments so that your mentors can understand your thought process."
   ]
  },
  {
   "cell_type": "code",
   "execution_count": 6,
   "metadata": {},
   "outputs": [
    {
     "data": {
      "text/plain": [
       "GPU    2662\n",
       "CPU    2192\n",
       "Name: Type, dtype: int64"
      ]
     },
     "execution_count": 6,
     "metadata": {},
     "output_type": "execute_result"
    }
   ],
   "source": [
    "#how many of each type?\n",
    "chip.Type.value_counts()"
   ]
  },
  {
   "cell_type": "code",
   "execution_count": 7,
   "metadata": {
    "azdata_cell_guid": "0ca2d318-f6e8-43ef-a33e-5304d24d928d",
    "tags": []
   },
   "outputs": [
    {
     "data": {
      "text/plain": [
       "Unnamed: 0                  0\n",
       "Product                     0\n",
       "Type                        0\n",
       "Release Date                0\n",
       "Process Size (nm)           9\n",
       "TDP (W)                   626\n",
       "Die Size (mm^2)           715\n",
       "Transistors (million)     711\n",
       "Freq (MHz)                  0\n",
       "Foundry                     0\n",
       "Vendor                      0\n",
       "FP16 GFLOPS              4318\n",
       "FP32 GFLOPS              2906\n",
       "FP64 GFLOPS              3548\n",
       "dtype: int64"
      ]
     },
     "execution_count": 7,
     "metadata": {},
     "output_type": "execute_result"
    }
   ],
   "source": [
    "#checking to see if there are a lot of null values anywhere\n",
    "chip.isna().sum()"
   ]
  },
  {
   "cell_type": "code",
   "execution_count": 8,
   "metadata": {},
   "outputs": [
    {
     "data": {
      "text/plain": [
       "NaT           75\n",
       "2013-09-01    60\n",
       "2001-01-01    57\n",
       "2021-04-06    50\n",
       "2006-05-23    42\n",
       "              ..\n",
       "2008-06-28     1\n",
       "2007-10-18     1\n",
       "2016-08-18     1\n",
       "2010-06-30     1\n",
       "2010-03-03     1\n",
       "Name: Release Date, Length: 1357, dtype: int64"
      ]
     },
     "execution_count": 8,
     "metadata": {},
     "output_type": "execute_result"
    }
   ],
   "source": [
    "# curious which dates have more information\n",
    "# after running this command i realized this wouldn't be enough to work with\n",
    "# i searched online for better ways to look at Date information\n",
    "\n",
    "chip['Release Date'].value_counts()"
   ]
  },
  {
   "cell_type": "code",
   "execution_count": 9,
   "metadata": {},
   "outputs": [
    {
     "data": {
      "text/html": [
       "<div>\n",
       "<style scoped>\n",
       "    .dataframe tbody tr th:only-of-type {\n",
       "        vertical-align: middle;\n",
       "    }\n",
       "\n",
       "    .dataframe tbody tr th {\n",
       "        vertical-align: top;\n",
       "    }\n",
       "\n",
       "    .dataframe thead th {\n",
       "        text-align: right;\n",
       "    }\n",
       "</style>\n",
       "<table border=\"1\" class=\"dataframe\">\n",
       "  <thead>\n",
       "    <tr style=\"text-align: right;\">\n",
       "      <th></th>\n",
       "      <th>Unnamed: 0</th>\n",
       "      <th>Product</th>\n",
       "      <th>Type</th>\n",
       "      <th>Release Date</th>\n",
       "      <th>Process Size (nm)</th>\n",
       "      <th>TDP (W)</th>\n",
       "      <th>Die Size (mm^2)</th>\n",
       "      <th>Transistors (million)</th>\n",
       "      <th>Freq (MHz)</th>\n",
       "      <th>Foundry</th>\n",
       "      <th>Vendor</th>\n",
       "      <th>FP16 GFLOPS</th>\n",
       "      <th>FP32 GFLOPS</th>\n",
       "      <th>FP64 GFLOPS</th>\n",
       "      <th>year</th>\n",
       "      <th>month</th>\n",
       "    </tr>\n",
       "  </thead>\n",
       "  <tbody>\n",
       "    <tr>\n",
       "      <th>0</th>\n",
       "      <td>0</td>\n",
       "      <td>AMD Athlon 64 3500+</td>\n",
       "      <td>CPU</td>\n",
       "      <td>2007-02-20</td>\n",
       "      <td>65.0</td>\n",
       "      <td>45.0</td>\n",
       "      <td>77.0</td>\n",
       "      <td>122.0</td>\n",
       "      <td>2200.0</td>\n",
       "      <td>Unknown</td>\n",
       "      <td>AMD</td>\n",
       "      <td>NaN</td>\n",
       "      <td>NaN</td>\n",
       "      <td>NaN</td>\n",
       "      <td>2007.0</td>\n",
       "      <td>2.0</td>\n",
       "    </tr>\n",
       "    <tr>\n",
       "      <th>1</th>\n",
       "      <td>1</td>\n",
       "      <td>AMD Athlon 200GE</td>\n",
       "      <td>CPU</td>\n",
       "      <td>2018-09-06</td>\n",
       "      <td>14.0</td>\n",
       "      <td>35.0</td>\n",
       "      <td>192.0</td>\n",
       "      <td>4800.0</td>\n",
       "      <td>3200.0</td>\n",
       "      <td>Unknown</td>\n",
       "      <td>AMD</td>\n",
       "      <td>NaN</td>\n",
       "      <td>NaN</td>\n",
       "      <td>NaN</td>\n",
       "      <td>2018.0</td>\n",
       "      <td>9.0</td>\n",
       "    </tr>\n",
       "    <tr>\n",
       "      <th>2</th>\n",
       "      <td>2</td>\n",
       "      <td>Intel Core i5-1145G7</td>\n",
       "      <td>CPU</td>\n",
       "      <td>2020-09-02</td>\n",
       "      <td>10.0</td>\n",
       "      <td>28.0</td>\n",
       "      <td>NaN</td>\n",
       "      <td>NaN</td>\n",
       "      <td>2600.0</td>\n",
       "      <td>Intel</td>\n",
       "      <td>Intel</td>\n",
       "      <td>NaN</td>\n",
       "      <td>NaN</td>\n",
       "      <td>NaN</td>\n",
       "      <td>2020.0</td>\n",
       "      <td>9.0</td>\n",
       "    </tr>\n",
       "    <tr>\n",
       "      <th>3</th>\n",
       "      <td>3</td>\n",
       "      <td>Intel Xeon E5-2603 v2</td>\n",
       "      <td>CPU</td>\n",
       "      <td>2013-09-01</td>\n",
       "      <td>22.0</td>\n",
       "      <td>80.0</td>\n",
       "      <td>160.0</td>\n",
       "      <td>1400.0</td>\n",
       "      <td>1800.0</td>\n",
       "      <td>Intel</td>\n",
       "      <td>Intel</td>\n",
       "      <td>NaN</td>\n",
       "      <td>NaN</td>\n",
       "      <td>NaN</td>\n",
       "      <td>2013.0</td>\n",
       "      <td>9.0</td>\n",
       "    </tr>\n",
       "    <tr>\n",
       "      <th>4</th>\n",
       "      <td>4</td>\n",
       "      <td>AMD Phenom II X4 980 BE</td>\n",
       "      <td>CPU</td>\n",
       "      <td>2011-05-03</td>\n",
       "      <td>45.0</td>\n",
       "      <td>125.0</td>\n",
       "      <td>258.0</td>\n",
       "      <td>758.0</td>\n",
       "      <td>3700.0</td>\n",
       "      <td>Unknown</td>\n",
       "      <td>AMD</td>\n",
       "      <td>NaN</td>\n",
       "      <td>NaN</td>\n",
       "      <td>NaN</td>\n",
       "      <td>2011.0</td>\n",
       "      <td>5.0</td>\n",
       "    </tr>\n",
       "  </tbody>\n",
       "</table>\n",
       "</div>"
      ],
      "text/plain": [
       "   Unnamed: 0                  Product Type Release Date  Process Size (nm)  \\\n",
       "0           0      AMD Athlon 64 3500+  CPU   2007-02-20               65.0   \n",
       "1           1         AMD Athlon 200GE  CPU   2018-09-06               14.0   \n",
       "2           2     Intel Core i5-1145G7  CPU   2020-09-02               10.0   \n",
       "3           3    Intel Xeon E5-2603 v2  CPU   2013-09-01               22.0   \n",
       "4           4  AMD Phenom II X4 980 BE  CPU   2011-05-03               45.0   \n",
       "\n",
       "   TDP (W)  Die Size (mm^2)  Transistors (million)  Freq (MHz)  Foundry  \\\n",
       "0     45.0             77.0                  122.0      2200.0  Unknown   \n",
       "1     35.0            192.0                 4800.0      3200.0  Unknown   \n",
       "2     28.0              NaN                    NaN      2600.0    Intel   \n",
       "3     80.0            160.0                 1400.0      1800.0    Intel   \n",
       "4    125.0            258.0                  758.0      3700.0  Unknown   \n",
       "\n",
       "  Vendor  FP16 GFLOPS  FP32 GFLOPS  FP64 GFLOPS    year  month  \n",
       "0    AMD          NaN          NaN          NaN  2007.0    2.0  \n",
       "1    AMD          NaN          NaN          NaN  2018.0    9.0  \n",
       "2  Intel          NaN          NaN          NaN  2020.0    9.0  \n",
       "3  Intel          NaN          NaN          NaN  2013.0    9.0  \n",
       "4    AMD          NaN          NaN          NaN  2011.0    5.0  "
      ]
     },
     "execution_count": 9,
     "metadata": {},
     "output_type": "execute_result"
    }
   ],
   "source": [
    "# i wanted to separate the year and month so converted Release Year to datetime\n",
    "\n",
    "chip['Release Date'] = pd.to_datetime(chip['Release Date'])\n",
    "chip['year'], chip['month'] = chip['Release Date'].dt.year, chip['Release Date'].dt.month\n",
    "chip.head()"
   ]
  },
  {
   "cell_type": "code",
   "execution_count": 10,
   "metadata": {},
   "outputs": [
    {
     "data": {
      "text/plain": [
       "2013.0    349\n",
       "2012.0    331\n",
       "2011.0    330\n",
       "2010.0    291\n",
       "2008.0    285\n",
       "2004.0    266\n",
       "2006.0    264\n",
       "2005.0    249\n",
       "2007.0    227\n",
       "2009.0    221\n",
       "2017.0    218\n",
       "2015.0    213\n",
       "2014.0    208\n",
       "2018.0    203\n",
       "2019.0    201\n",
       "2003.0    185\n",
       "2020.0    174\n",
       "2021.0    143\n",
       "2001.0    135\n",
       "2016.0    131\n",
       "2002.0    108\n",
       "2000.0     47\n",
       "Name: year, dtype: int64"
      ]
     },
     "execution_count": 10,
     "metadata": {},
     "output_type": "execute_result"
    }
   ],
   "source": [
    "chip['year'].value_counts()"
   ]
  },
  {
   "cell_type": "code",
   "execution_count": 11,
   "metadata": {},
   "outputs": [
    {
     "data": {
      "text/plain": [
       "1.0     585\n",
       "6.0     516\n",
       "9.0     494\n",
       "4.0     477\n",
       "3.0     460\n",
       "5.0     442\n",
       "10.0    372\n",
       "8.0     330\n",
       "7.0     308\n",
       "2.0     302\n",
       "11.0    255\n",
       "12.0    238\n",
       "Name: month, dtype: int64"
      ]
     },
     "execution_count": 11,
     "metadata": {},
     "output_type": "execute_result"
    }
   ],
   "source": [
    "chip['month'].value_counts()"
   ]
  },
  {
   "cell_type": "code",
   "execution_count": 13,
   "metadata": {},
   "outputs": [
    {
     "data": {
      "text/plain": [
       "AMD       1662\n",
       "Intel     1392\n",
       "NVIDIA    1201\n",
       "ATI        535\n",
       "Other       64\n",
       "Name: Vendor, dtype: int64"
      ]
     },
     "execution_count": 13,
     "metadata": {},
     "output_type": "execute_result"
    }
   ],
   "source": [
    "#checking this one for visualization purposes\n",
    "chip['Vendor'].value_counts()"
   ]
  },
  {
   "cell_type": "markdown",
   "metadata": {
    "azdata_cell_guid": "d45060f3-97bc-484a-9ef4-66145bbe9427"
   },
   "source": [
    "## Visualize\n",
    "\n",
    "Create any visualizations for your EDA here. Make note in the form of code comments of what your thought process is for your visualizations."
   ]
  },
  {
   "cell_type": "code",
   "execution_count": 14,
   "metadata": {
    "azdata_cell_guid": "f4565b03-759a-47a8-b58f-01b32a0b4b67"
   },
   "outputs": [
    {
     "data": {
      "image/png": "[encoded data removed]",
      "text/plain": [
       "<Figure size 432x288 with 1 Axes>"
      ]
     },
     "metadata": {
      "needs_background": "light"
     },
     "output_type": "display_data"
    }
   ],
   "source": [
    "# looking at time frames since this is where my analysis will focus\n",
    "\n",
    "chip.hist('year')\n",
    "plt.show()"
   ]
  },
  {
   "cell_type": "code",
   "execution_count": 15,
   "metadata": {},
   "outputs": [
    {
     "data": {
      "image/png": "[encoded data removed]",
      "text/plain": [
       "<Figure size 432x288 with 1 Axes>"
      ]
     },
     "metadata": {
      "needs_background": "light"
     },
     "output_type": "display_data"
    }
   ],
   "source": [
    "chip.hist('month')\n",
    "plt.show()\n",
    "\n",
    "# we like january i see"
   ]
  },
  {
   "cell_type": "code",
   "execution_count": 35,
   "metadata": {
    "azdata_cell_guid": "cd64bab1-db4c-4295-820d-c6464b653a3e"
   },
   "outputs": [
    {
     "data": {
      "image/png": "[encoded data removed]",
      "text/plain": [
       "<Figure size 432x288 with 1 Axes>"
      ]
     },
     "metadata": {},
     "output_type": "display_data"
    }
   ],
   "source": [
    "# i know pie charts are not the best way to represent data but this was a helpful visual for me\n",
    "\n",
    "plt.rcParams['text.color'] = 'white'\n",
    "names = ['AMD','Intel','NVIDIA','ATI','Other']\n",
    "plt.pie(chip['Vendor'].value_counts(), labels=names, colors = ['skyblue', 'lightpink','violet','lightgreen','yellow'])\n",
    "\n",
    "plt.show()"
   ]
  },
  {
   "cell_type": "markdown",
   "metadata": {
    "azdata_cell_guid": "d4931c0c-2c09-4ee1-95d4-73dd08c2f0a6",
    "tags": []
   },
   "source": [
    "## Summarize Your Results\n",
    "\n",
    "With your EDA complete, answer the following questions.\n",
    "\n",
    "1. Was there anything surprising about your dataset? \n",
    "2. Do you have any concerns about your dataset? \n",
    "3. Is there anything you want to make note of for the next phase of your analysis, which is cleaning data? "
   ]
  },
  {
   "cell_type": "markdown",
   "metadata": {},
   "source": [
    "## Was there anything surprising?\n",
    "\n",
    "I think this data set is very straightforward.\n",
    "If anything, I might have expected to see more growth over the years\n",
    "\n",
    "## Any concerns?\n",
    "\n",
    "Wondering if I should look for more data to have a more in-depth analysis, since this is very basic.\n",
    "\n",
    "## Cleaning data?\n",
    "\n",
    "I think I'm going to remove the GFLOPS columns since it's most null, and not as necessary for my analysis.\n",
    "\n",
    "The other null values are expected\n",
    "\n",
    "At some point I might want to make two different DFs to compare the two different types of product"
   ]
  }
 ],
 "metadata": {
  "kernelspec": {
   "display_name": "Python 3 (ipykernel)",
   "language": "python",
   "name": "python3"
  },
  "language_info": {
   "codemirror_mode": {
    "name": "ipython",
    "version": 3
   },
   "file_extension": ".py",
   "mimetype": "text/x-python",
   "name": "python",
   "nbconvert_exporter": "python",
   "pygments_lexer": "ipython3",
   "version": "3.9.12"
  }
 },
 "nbformat": 4,
 "nbformat_minor": 4
}
